{
 "cells": [
  {
   "cell_type": "code",
   "execution_count": 3,
   "metadata": {
    "collapsed": true
   },
   "outputs": [],
   "source": [
    "import pandas as pd"
   ]
  },
  {
   "cell_type": "code",
   "execution_count": 4,
   "metadata": {
    "collapsed": false
   },
   "outputs": [
    {
     "name": "stderr",
     "output_type": "stream",
     "text": [
      "ERROR: Cell magic `%%shell` not found.\n"
     ]
    }
   ],
   "source": [
    "%%shell\n",
    "cd /tmp\n",
    "git clone git@github.com:Turbo87/utm\n",
    "commit_opener --repo utm"
   ]
  },
  {
   "cell_type": "code",
   "execution_count": 5,
   "metadata": {
    "collapsed": false
   },
   "outputs": [
    {
     "data": {
      "text/html": [
       "<div>\n",
       "<table border=\"1\" class=\"dataframe\">\n",
       "  <thead>\n",
       "    <tr style=\"text-align: right;\">\n",
       "      <th></th>\n",
       "      <th>commits</th>\n",
       "      <th>first</th>\n",
       "      <th>last</th>\n",
       "      <th>line_changes</th>\n",
       "      <th>max_dayly_commit_run</th>\n",
       "      <th>max_dry_stretch</th>\n",
       "      <th>median_commit_frequency</th>\n",
       "    </tr>\n",
       "  </thead>\n",
       "  <tbody>\n",
       "    <tr>\n",
       "      <th>Bart van Andel</th>\n",
       "      <td>0.013333</td>\n",
       "      <td>1421752733000</td>\n",
       "      <td>1421752733000</td>\n",
       "      <td>0.000958</td>\n",
       "      <td>NaN</td>\n",
       "      <td>NaN</td>\n",
       "      <td>NaN</td>\n",
       "    </tr>\n",
       "    <tr>\n",
       "      <th>Christian Ewald</th>\n",
       "      <td>0.013333</td>\n",
       "      <td>1443040742000</td>\n",
       "      <td>1443040742000</td>\n",
       "      <td>0.025874</td>\n",
       "      <td>NaN</td>\n",
       "      <td>NaN</td>\n",
       "      <td>NaN</td>\n",
       "    </tr>\n",
       "    <tr>\n",
       "      <th>Richard Barnes</th>\n",
       "      <td>0.026667</td>\n",
       "      <td>1378313006000</td>\n",
       "      <td>1378313103000</td>\n",
       "      <td>0.005750</td>\n",
       "      <td>1</td>\n",
       "      <td>0</td>\n",
       "      <td>0</td>\n",
       "    </tr>\n",
       "    <tr>\n",
       "      <th>Tobias Bieniek</th>\n",
       "      <td>0.893333</td>\n",
       "      <td>1356807770000</td>\n",
       "      <td>1446728903000</td>\n",
       "      <td>0.958793</td>\n",
       "      <td>25</td>\n",
       "      <td>32313600000</td>\n",
       "      <td>0</td>\n",
       "    </tr>\n",
       "    <tr>\n",
       "      <th>Torstein I. Bø</th>\n",
       "      <td>0.040000</td>\n",
       "      <td>1417455125000</td>\n",
       "      <td>1423054878000</td>\n",
       "      <td>0.007667</td>\n",
       "      <td>1</td>\n",
       "      <td>5529600000</td>\n",
       "      <td>2764800000</td>\n",
       "    </tr>\n",
       "    <tr>\n",
       "      <th>unknown</th>\n",
       "      <td>0.013333</td>\n",
       "      <td>1441188694000</td>\n",
       "      <td>1441188694000</td>\n",
       "      <td>0.000958</td>\n",
       "      <td>NaN</td>\n",
       "      <td>NaN</td>\n",
       "      <td>NaN</td>\n",
       "    </tr>\n",
       "  </tbody>\n",
       "</table>\n",
       "</div>"
      ],
      "text/plain": [
       "                  commits          first           last  line_changes  \\\n",
       "Bart van Andel   0.013333  1421752733000  1421752733000      0.000958   \n",
       "Christian Ewald  0.013333  1443040742000  1443040742000      0.025874   \n",
       "Richard Barnes   0.026667  1378313006000  1378313103000      0.005750   \n",
       "Tobias Bieniek   0.893333  1356807770000  1446728903000      0.958793   \n",
       "Torstein I. Bø   0.040000  1417455125000  1423054878000      0.007667   \n",
       "unknown          0.013333  1441188694000  1441188694000      0.000958   \n",
       "\n",
       "                 max_dayly_commit_run  max_dry_stretch  \\\n",
       "Bart van Andel                    NaN              NaN   \n",
       "Christian Ewald                   NaN              NaN   \n",
       "Richard Barnes                      1                0   \n",
       "Tobias Bieniek                     25      32313600000   \n",
       "Torstein I. Bø                      1       5529600000   \n",
       "unknown                           NaN              NaN   \n",
       "\n",
       "                 median_commit_frequency  \n",
       "Bart van Andel                       NaN  \n",
       "Christian Ewald                      NaN  \n",
       "Richard Barnes                         0  \n",
       "Tobias Bieniek                         0  \n",
       "Torstein I. Bø                2764800000  \n",
       "unknown                              NaN  "
      ]
     },
     "execution_count": 5,
     "metadata": {},
     "output_type": "execute_result"
    }
   ],
   "source": [
    "contrib_data = pd.read_json('/tmp/contrib_data/contributor_data.json')\n",
    "contrib_data"
   ]
  },
  {
   "cell_type": "code",
   "execution_count": 6,
   "metadata": {
    "collapsed": false
   },
   "outputs": [
    {
     "data": {
      "text/html": [
       "<div>\n",
       "<table border=\"1\" class=\"dataframe\">\n",
       "  <thead>\n",
       "    <tr style=\"text-align: right;\">\n",
       "      <th></th>\n",
       "      <th>citedByCount</th>\n",
       "      <th>id</th>\n",
       "      <th>pubYear</th>\n",
       "    </tr>\n",
       "  </thead>\n",
       "  <tbody>\n",
       "    <tr>\n",
       "      <th>0</th>\n",
       "      <td>0</td>\n",
       "      <td>26962821</td>\n",
       "      <td>2016</td>\n",
       "    </tr>\n",
       "    <tr>\n",
       "      <th>1</th>\n",
       "      <td>0</td>\n",
       "      <td>26576745</td>\n",
       "      <td>2016</td>\n",
       "    </tr>\n",
       "    <tr>\n",
       "      <th>2</th>\n",
       "      <td>0</td>\n",
       "      <td>26925656</td>\n",
       "      <td>2016</td>\n",
       "    </tr>\n",
       "    <tr>\n",
       "      <th>3</th>\n",
       "      <td>0</td>\n",
       "      <td>26779804</td>\n",
       "      <td>2016</td>\n",
       "    </tr>\n",
       "    <tr>\n",
       "      <th>4</th>\n",
       "      <td>0</td>\n",
       "      <td>26871471</td>\n",
       "      <td>2016</td>\n",
       "    </tr>\n",
       "    <tr>\n",
       "      <th>5</th>\n",
       "      <td>0</td>\n",
       "      <td>26878196</td>\n",
       "      <td>2016</td>\n",
       "    </tr>\n",
       "    <tr>\n",
       "      <th>6</th>\n",
       "      <td>0</td>\n",
       "      <td>26716549</td>\n",
       "      <td>2016</td>\n",
       "    </tr>\n",
       "    <tr>\n",
       "      <th>7</th>\n",
       "      <td>0</td>\n",
       "      <td>26952133</td>\n",
       "      <td>2016</td>\n",
       "    </tr>\n",
       "    <tr>\n",
       "      <th>8</th>\n",
       "      <td>0</td>\n",
       "      <td>25041134</td>\n",
       "      <td>2016</td>\n",
       "    </tr>\n",
       "    <tr>\n",
       "      <th>9</th>\n",
       "      <td>0</td>\n",
       "      <td>26428190</td>\n",
       "      <td>2016</td>\n",
       "    </tr>\n",
       "  </tbody>\n",
       "</table>\n",
       "</div>"
      ],
      "text/plain": [
       "   citedByCount        id  pubYear\n",
       "0             0  26962821     2016\n",
       "1             0  26576745     2016\n",
       "2             0  26925656     2016\n",
       "3             0  26779804     2016\n",
       "4             0  26871471     2016\n",
       "5             0  26878196     2016\n",
       "6             0  26716549     2016\n",
       "7             0  26952133     2016\n",
       "8             0  25041134     2016\n",
       "9             0  26428190     2016"
      ]
     },
     "execution_count": 6,
     "metadata": {},
     "output_type": "execute_result"
    }
   ],
   "source": [
    "citation_data = pd.read_json('/tmp/contrib_data/citation_data.json')\n",
    "citation_data"
   ]
  },
  {
   "cell_type": "code",
   "execution_count": null,
   "metadata": {
    "collapsed": true
   },
   "outputs": [],
   "source": []
  }
 ],
 "metadata": {
  "kernelspec": {
   "display_name": "Python 2",
   "language": "python",
   "name": "python2"
  },
  "language_info": {
   "codemirror_mode": {
    "name": "ipython",
    "version": 2
   },
   "file_extension": ".py",
   "mimetype": "text/x-python",
   "name": "python",
   "nbconvert_exporter": "python",
   "pygments_lexer": "ipython2",
   "version": "2.7.11"
  }
 },
 "nbformat": 4,
 "nbformat_minor": 0
}
